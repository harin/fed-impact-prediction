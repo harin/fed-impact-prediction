{
 "cells": [
  {
   "cell_type": "code",
   "execution_count": 6,
   "metadata": {},
   "outputs": [],
   "source": [
    "%load_ext autoreload\n",
    "%autoreload 2"
   ]
  },
  {
   "cell_type": "code",
   "execution_count": 38,
   "metadata": {},
   "outputs": [],
   "source": [
    "import pandas as pd\n",
    "import numpy as np\n",
    "import matplotlib\n",
    "from sklearn.feature_extraction.text import CountVectorizer, TfidfTransformer\n",
    "from util import DenseTransformer\n",
    "from sklearn.metrics import classification_report\n",
    "from sklearn.pipeline import make_pipeline\n",
    "from sklearn.linear_model import SGDClassifier\n",
    "from sklearn.naive_bayes import GaussianNB\n",
    "from sklearn.metrics import precision_score, recall_score, roc_auc_score, roc_curve\n",
    "from sklearn.model_selection import train_test_split, GridSearchCV, cross_val_score, KFold\n",
    "from sklearn.svm import SVC"
   ]
  },
  {
   "cell_type": "code",
   "execution_count": 4,
   "metadata": {},
   "outputs": [],
   "source": [
    "df = pd.read_csv('./data/dataset_with_content.csv', index_col=0, parse_dates=True)"
   ]
  },
  {
   "cell_type": "code",
   "execution_count": 5,
   "metadata": {},
   "outputs": [
    {
     "data": {
      "text/html": [
       "<div>\n",
       "<style scoped>\n",
       "    .dataframe tbody tr th:only-of-type {\n",
       "        vertical-align: middle;\n",
       "    }\n",
       "\n",
       "    .dataframe tbody tr th {\n",
       "        vertical-align: top;\n",
       "    }\n",
       "\n",
       "    .dataframe thead th {\n",
       "        text-align: right;\n",
       "    }\n",
       "</style>\n",
       "<table border=\"1\" class=\"dataframe\">\n",
       "  <thead>\n",
       "    <tr style=\"text-align: right;\">\n",
       "      <th></th>\n",
       "      <th>l</th>\n",
       "      <th>close</th>\n",
       "      <th>d</th>\n",
       "      <th>date</th>\n",
       "      <th>pct_change</th>\n",
       "      <th>pt</th>\n",
       "      <th>t</th>\n",
       "      <th>content</th>\n",
       "    </tr>\n",
       "    <tr>\n",
       "      <th>next_day</th>\n",
       "      <th></th>\n",
       "      <th></th>\n",
       "      <th></th>\n",
       "      <th></th>\n",
       "      <th></th>\n",
       "      <th></th>\n",
       "      <th></th>\n",
       "      <th></th>\n",
       "    </tr>\n",
       "  </thead>\n",
       "  <tbody>\n",
       "    <tr>\n",
       "      <th>2006-01-11</th>\n",
       "      <td>/newsevents/pressreleases/bcreg20060110a.htm</td>\n",
       "      <td>1294.1801</td>\n",
       "      <td>1/10/2006 10:00:00 AM</td>\n",
       "      <td>2006-01-10 10:00:00</td>\n",
       "      <td>0.006314</td>\n",
       "      <td>Banking and Consumer Regulatory Policy</td>\n",
       "      <td>Federal Bank and Thrift Agencies Propose Guida...</td>\n",
       "      <td>\\nThe federal bank and thrift regulatory agenc...</td>\n",
       "    </tr>\n",
       "    <tr>\n",
       "      <th>2006-02-03</th>\n",
       "      <td>/newsevents/pressreleases/bcreg20060203a.htm</td>\n",
       "      <td>1264.0300</td>\n",
       "      <td>2/3/2006</td>\n",
       "      <td>2006-02-03 00:00:00</td>\n",
       "      <td>-0.000783</td>\n",
       "      <td>Banking and Consumer Regulatory Policy</td>\n",
       "      <td>Federal Financial Regulatory Agencies Issue In...</td>\n",
       "      <td>\\nThe federal financial regulatory agencies to...</td>\n",
       "    </tr>\n",
       "    <tr>\n",
       "      <th>2006-02-06</th>\n",
       "      <td>/newsevents/pressreleases/bcreg20060206a.htm</td>\n",
       "      <td>1265.0200</td>\n",
       "      <td>2/6/2006</td>\n",
       "      <td>2006-02-06 00:00:00</td>\n",
       "      <td>0.008161</td>\n",
       "      <td>Banking and Consumer Regulatory Policy</td>\n",
       "      <td>Approval of final rule on risk-based capital t...</td>\n",
       "      <td>\\nThe Federal Reserve Board on Monday announce...</td>\n",
       "    </tr>\n",
       "    <tr>\n",
       "      <th>2006-02-17</th>\n",
       "      <td>/newsevents/pressreleases/bcreg20060217a.htm</td>\n",
       "      <td>1287.2400</td>\n",
       "      <td>2/17/2006</td>\n",
       "      <td>2006-02-17 00:00:00</td>\n",
       "      <td>0.003281</td>\n",
       "      <td>Banking and Consumer Regulatory Policy</td>\n",
       "      <td>Federal Financial Regulatory Agencies Extend C...</td>\n",
       "      <td>\\nThe federal financial regulatory agencies to...</td>\n",
       "    </tr>\n",
       "    <tr>\n",
       "      <th>2006-02-24</th>\n",
       "      <td>/newsevents/pressreleases/bcreg20060224a.htm</td>\n",
       "      <td>1289.4301</td>\n",
       "      <td>2/24/2006</td>\n",
       "      <td>2006-02-24 00:00:00</td>\n",
       "      <td>-0.003624</td>\n",
       "      <td>Banking and Consumer Regulatory Policy</td>\n",
       "      <td>Federal Regulators Release Summary Findings of...</td>\n",
       "      <td>\\nWASHINGTON, D.C. - The federal bank and thri...</td>\n",
       "    </tr>\n",
       "  </tbody>\n",
       "</table>\n",
       "</div>"
      ],
      "text/plain": [
       "                                                       l      close  \\\n",
       "next_day                                                              \n",
       "2006-01-11  /newsevents/pressreleases/bcreg20060110a.htm  1294.1801   \n",
       "2006-02-03  /newsevents/pressreleases/bcreg20060203a.htm  1264.0300   \n",
       "2006-02-06  /newsevents/pressreleases/bcreg20060206a.htm  1265.0200   \n",
       "2006-02-17  /newsevents/pressreleases/bcreg20060217a.htm  1287.2400   \n",
       "2006-02-24  /newsevents/pressreleases/bcreg20060224a.htm  1289.4301   \n",
       "\n",
       "                                d                 date  pct_change  \\\n",
       "next_day                                                             \n",
       "2006-01-11  1/10/2006 10:00:00 AM  2006-01-10 10:00:00    0.006314   \n",
       "2006-02-03               2/3/2006  2006-02-03 00:00:00   -0.000783   \n",
       "2006-02-06               2/6/2006  2006-02-06 00:00:00    0.008161   \n",
       "2006-02-17              2/17/2006  2006-02-17 00:00:00    0.003281   \n",
       "2006-02-24              2/24/2006  2006-02-24 00:00:00   -0.003624   \n",
       "\n",
       "                                                pt  \\\n",
       "next_day                                             \n",
       "2006-01-11  Banking and Consumer Regulatory Policy   \n",
       "2006-02-03  Banking and Consumer Regulatory Policy   \n",
       "2006-02-06  Banking and Consumer Regulatory Policy   \n",
       "2006-02-17  Banking and Consumer Regulatory Policy   \n",
       "2006-02-24  Banking and Consumer Regulatory Policy   \n",
       "\n",
       "                                                            t  \\\n",
       "next_day                                                        \n",
       "2006-01-11  Federal Bank and Thrift Agencies Propose Guida...   \n",
       "2006-02-03  Federal Financial Regulatory Agencies Issue In...   \n",
       "2006-02-06  Approval of final rule on risk-based capital t...   \n",
       "2006-02-17  Federal Financial Regulatory Agencies Extend C...   \n",
       "2006-02-24  Federal Regulators Release Summary Findings of...   \n",
       "\n",
       "                                                      content  \n",
       "next_day                                                       \n",
       "2006-01-11  \\nThe federal bank and thrift regulatory agenc...  \n",
       "2006-02-03  \\nThe federal financial regulatory agencies to...  \n",
       "2006-02-06  \\nThe Federal Reserve Board on Monday announce...  \n",
       "2006-02-17  \\nThe federal financial regulatory agencies to...  \n",
       "2006-02-24  \\nWASHINGTON, D.C. - The federal bank and thri...  "
      ]
     },
     "execution_count": 5,
     "metadata": {},
     "output_type": "execute_result"
    }
   ],
   "source": [
    "df.head()"
   ]
  },
  {
   "cell_type": "code",
   "execution_count": 24,
   "metadata": {},
   "outputs": [],
   "source": [
    "df.content = df.content.fillna('')"
   ]
  },
  {
   "cell_type": "code",
   "execution_count": 25,
   "metadata": {},
   "outputs": [],
   "source": [
    "X = df.t +'\\n'+ df.content\n",
    "y = df['pct_change'] > 0"
   ]
  },
  {
   "cell_type": "code",
   "execution_count": 26,
   "metadata": {},
   "outputs": [],
   "source": [
    "X_train, X_test, y_train, y_test = train_test_split(X,y,random_state=42)"
   ]
  },
  {
   "cell_type": "code",
   "execution_count": 29,
   "metadata": {},
   "outputs": [],
   "source": [
    "def evaluate_model(model, X=X_train, y=y_train):\n",
    "    text_svm = make_pipeline(\n",
    "        CountVectorizer(),\n",
    "        TfidfTransformer(),\n",
    "        DenseTransformer(),\n",
    "        model\n",
    "    )\n",
    "    kf = KFold(n_splits=5)\n",
    "    for train_idx, test_idx in kf.split(X):\n",
    "    \n",
    "    scores = cross_val_score(text_svm, X, y, cv=5)#n_jobs=-1)\n",
    "    print()\n",
    "    return scores"
   ]
  },
  {
   "cell_type": "code",
   "execution_count": 32,
   "metadata": {},
   "outputs": [
    {
     "name": "stdout",
     "output_type": "stream",
     "text": [
      "[0.48221344 0.52173913 0.50988142 0.53359684 0.47920792]\n"
     ]
    },
    {
     "data": {
      "text/plain": [
       "array([0.48221344, 0.52173913, 0.50988142, 0.53359684, 0.47920792])"
      ]
     },
     "execution_count": 32,
     "metadata": {},
     "output_type": "execute_result"
    }
   ],
   "source": [
    "evaluate_model(GaussianNB())"
   ]
  },
  {
   "cell_type": "code",
   "execution_count": 33,
   "metadata": {},
   "outputs": [
    {
     "name": "stdout",
     "output_type": "stream",
     "text": [
      "[0.55335968 0.54347826 0.52371542 0.52766798 0.51089109]\n"
     ]
    },
    {
     "data": {
      "text/plain": [
       "array([0.55335968, 0.54347826, 0.52371542, 0.52766798, 0.51089109])"
      ]
     },
     "execution_count": 33,
     "metadata": {},
     "output_type": "execute_result"
    }
   ],
   "source": [
    "evaluate_model(SGDClassifier(loss='hinge', penalty='l2', alpha=1e-3, random_state=42, max_iter=5, tol=None))"
   ]
  },
  {
   "cell_type": "code",
   "execution_count": 36,
   "metadata": {},
   "outputs": [
    {
     "name": "stderr",
     "output_type": "stream",
     "text": [
      "/home/harinsa/miniconda3/lib/python3.7/site-packages/sklearn/svm/base.py:196: FutureWarning: The default value of gamma will change from 'auto' to 'scale' in version 0.22 to account better for unscaled features. Set gamma explicitly to 'auto' or 'scale' to avoid this warning.\n",
      "  \"avoid this warning.\", FutureWarning)\n",
      "/home/harinsa/miniconda3/lib/python3.7/site-packages/sklearn/svm/base.py:196: FutureWarning: The default value of gamma will change from 'auto' to 'scale' in version 0.22 to account better for unscaled features. Set gamma explicitly to 'auto' or 'scale' to avoid this warning.\n",
      "  \"avoid this warning.\", FutureWarning)\n",
      "/home/harinsa/miniconda3/lib/python3.7/site-packages/sklearn/svm/base.py:196: FutureWarning: The default value of gamma will change from 'auto' to 'scale' in version 0.22 to account better for unscaled features. Set gamma explicitly to 'auto' or 'scale' to avoid this warning.\n",
      "  \"avoid this warning.\", FutureWarning)\n",
      "/home/harinsa/miniconda3/lib/python3.7/site-packages/sklearn/svm/base.py:196: FutureWarning: The default value of gamma will change from 'auto' to 'scale' in version 0.22 to account better for unscaled features. Set gamma explicitly to 'auto' or 'scale' to avoid this warning.\n",
      "  \"avoid this warning.\", FutureWarning)\n",
      "/home/harinsa/miniconda3/lib/python3.7/site-packages/sklearn/svm/base.py:196: FutureWarning: The default value of gamma will change from 'auto' to 'scale' in version 0.22 to account better for unscaled features. Set gamma explicitly to 'auto' or 'scale' to avoid this warning.\n",
      "  \"avoid this warning.\", FutureWarning)\n"
     ]
    },
    {
     "name": "stdout",
     "output_type": "stream",
     "text": [
      "[0.54150198 0.54150198 0.54150198 0.54150198 0.54257426]\n"
     ]
    },
    {
     "data": {
      "text/plain": [
       "array([0.54150198, 0.54150198, 0.54150198, 0.54150198, 0.54257426])"
      ]
     },
     "execution_count": 36,
     "metadata": {},
     "output_type": "execute_result"
    }
   ],
   "source": [
    "evaluate_model(SVC(random_state=42))"
   ]
  },
  {
   "cell_type": "code",
   "execution_count": 57,
   "metadata": {},
   "outputs": [
    {
     "data": {
      "text/plain": [
       "0.9908913467794405"
      ]
     },
     "execution_count": 57,
     "metadata": {},
     "output_type": "execute_result"
    }
   ],
   "source": [
    "recall_score(y, y_pred)"
   ]
  },
  {
   "cell_type": "code",
   "execution_count": 61,
   "metadata": {},
   "outputs": [],
   "source": []
  },
  {
   "cell_type": "code",
   "execution_count": 62,
   "metadata": {},
   "outputs": [],
   "source": [
    "text_clf = make_pipeline(\n",
    "    CountVectorizer(),\n",
    "    TfidfTransformer(),\n",
    "    SGDClassifier(loss='hinge', penalty='l2', alpha=1e-3, random_state=42, max_iter=5, tol=None)\n",
    ")"
   ]
  },
  {
   "cell_type": "code",
   "execution_count": 78,
   "metadata": {},
   "outputs": [],
   "source": []
  },
  {
   "cell_type": "code",
   "execution_count": 79,
   "metadata": {},
   "outputs": [],
   "source": []
  },
  {
   "cell_type": "code",
   "execution_count": 80,
   "metadata": {},
   "outputs": [
    {
     "data": {
      "text/plain": [
       "array([0.50592885, 0.53754941, 0.53557312, 0.5513834 , 0.52277228])"
      ]
     },
     "execution_count": 80,
     "metadata": {},
     "output_type": "execute_result"
    }
   ],
   "source": [
    "cross_val_score(text_clf, X_train, y_train, cv=5)"
   ]
  },
  {
   "cell_type": "code",
   "execution_count": 91,
   "metadata": {},
   "outputs": [],
   "source": []
  },
  {
   "cell_type": "code",
   "execution_count": 102,
   "metadata": {},
   "outputs": [
    {
     "data": {
      "text/plain": [
       "array([0.47035573, 0.46640316, 0.46837945, 0.48418972, 0.52079208])"
      ]
     },
     "execution_count": 102,
     "metadata": {},
     "output_type": "execute_result"
    }
   ],
   "source": [
    "cross_val_score(text_nb_clf, X_train, y_train, cv=5)"
   ]
  },
  {
   "cell_type": "code",
   "execution_count": 104,
   "metadata": {},
   "outputs": [],
   "source": [
    "\n",
    "text_svm = make_pipeline(\n",
    "    CountVectorizer(),\n",
    "    TfidfTransformer(),\n",
    "    SVC(random_state=42)\n",
    ")"
   ]
  },
  {
   "cell_type": "code",
   "execution_count": 105,
   "metadata": {},
   "outputs": [
    {
     "name": "stderr",
     "output_type": "stream",
     "text": [
      "/home/harinsa/miniconda3/lib/python3.7/site-packages/sklearn/svm/base.py:196: FutureWarning: The default value of gamma will change from 'auto' to 'scale' in version 0.22 to account better for unscaled features. Set gamma explicitly to 'auto' or 'scale' to avoid this warning.\n",
      "  \"avoid this warning.\", FutureWarning)\n"
     ]
    },
    {
     "data": {
      "text/plain": [
       "array([0.54743083, 0.54743083, 0.54743083, 0.54743083, 0.54851485])"
      ]
     },
     "execution_count": 105,
     "metadata": {},
     "output_type": "execute_result"
    }
   ],
   "source": [
    "cross_val_score(text_svm, X_train, y_train, cv=5)"
   ]
  },
  {
   "cell_type": "code",
   "execution_count": 111,
   "metadata": {},
   "outputs": [],
   "source": []
  },
  {
   "cell_type": "code",
   "execution_count": 115,
   "metadata": {},
   "outputs": [
    {
     "name": "stderr",
     "output_type": "stream",
     "text": [
      "/home/harinsa/miniconda3/lib/python3.7/site-packages/sklearn/svm/base.py:196: FutureWarning: The default value of gamma will change from 'auto' to 'scale' in version 0.22 to account better for unscaled features. Set gamma explicitly to 'auto' or 'scale' to avoid this warning.\n",
      "  \"avoid this warning.\", FutureWarning)\n"
     ]
    }
   ],
   "source": [
    "grid = evaluate_model(SVC(random_state=42))"
   ]
  },
  {
   "cell_type": "code",
   "execution_count": 117,
   "metadata": {},
   "outputs": [
    {
     "name": "stderr",
     "output_type": "stream",
     "text": [
      "/home/harinsa/miniconda3/lib/python3.7/site-packages/sklearn/utils/deprecation.py:125: FutureWarning: You are accessing a training score ('split0_train_score'), which will not be available by default any more in 0.21. If you need training scores, please set return_train_score=True\n",
      "  warnings.warn(*warn_args, **warn_kwargs)\n",
      "/home/harinsa/miniconda3/lib/python3.7/site-packages/sklearn/utils/deprecation.py:125: FutureWarning: You are accessing a training score ('split1_train_score'), which will not be available by default any more in 0.21. If you need training scores, please set return_train_score=True\n",
      "  warnings.warn(*warn_args, **warn_kwargs)\n",
      "/home/harinsa/miniconda3/lib/python3.7/site-packages/sklearn/utils/deprecation.py:125: FutureWarning: You are accessing a training score ('split2_train_score'), which will not be available by default any more in 0.21. If you need training scores, please set return_train_score=True\n",
      "  warnings.warn(*warn_args, **warn_kwargs)\n",
      "/home/harinsa/miniconda3/lib/python3.7/site-packages/sklearn/utils/deprecation.py:125: FutureWarning: You are accessing a training score ('split3_train_score'), which will not be available by default any more in 0.21. If you need training scores, please set return_train_score=True\n",
      "  warnings.warn(*warn_args, **warn_kwargs)\n",
      "/home/harinsa/miniconda3/lib/python3.7/site-packages/sklearn/utils/deprecation.py:125: FutureWarning: You are accessing a training score ('split4_train_score'), which will not be available by default any more in 0.21. If you need training scores, please set return_train_score=True\n",
      "  warnings.warn(*warn_args, **warn_kwargs)\n",
      "/home/harinsa/miniconda3/lib/python3.7/site-packages/sklearn/utils/deprecation.py:125: FutureWarning: You are accessing a training score ('mean_train_score'), which will not be available by default any more in 0.21. If you need training scores, please set return_train_score=True\n",
      "  warnings.warn(*warn_args, **warn_kwargs)\n",
      "/home/harinsa/miniconda3/lib/python3.7/site-packages/sklearn/utils/deprecation.py:125: FutureWarning: You are accessing a training score ('std_train_score'), which will not be available by default any more in 0.21. If you need training scores, please set return_train_score=True\n",
      "  warnings.warn(*warn_args, **warn_kwargs)\n"
     ]
    },
    {
     "data": {
      "text/plain": [
       "{'mean_fit_time': array([16.94346161]),\n",
       " 'std_fit_time': array([1.56041995]),\n",
       " 'mean_score_time': array([4.33206258]),\n",
       " 'std_score_time': array([0.06780955]),\n",
       " 'params': [{}],\n",
       " 'split0_test_score': array([0.54743083]),\n",
       " 'split1_test_score': array([0.54743083]),\n",
       " 'split2_test_score': array([0.54743083]),\n",
       " 'split3_test_score': array([0.54743083]),\n",
       " 'split4_test_score': array([0.54851485]),\n",
       " 'mean_test_score': array([0.54764729]),\n",
       " 'std_test_score': array([0.00043335]),\n",
       " 'rank_test_score': array([1], dtype=int32),\n",
       " 'split0_train_score': array([0.54770143]),\n",
       " 'split1_train_score': array([0.54770143]),\n",
       " 'split2_train_score': array([0.54770143]),\n",
       " 'split3_train_score': array([0.54770143]),\n",
       " 'split4_train_score': array([0.54743083]),\n",
       " 'mean_train_score': array([0.54764731]),\n",
       " 'std_train_score': array([0.00010824])}"
      ]
     },
     "execution_count": 117,
     "metadata": {},
     "output_type": "execute_result"
    }
   ],
   "source": [
    "grid.cv_results_"
   ]
  },
  {
   "cell_type": "code",
   "execution_count": null,
   "metadata": {},
   "outputs": [],
   "source": []
  }
 ],
 "metadata": {
  "kernelspec": {
   "display_name": "Python [default]",
   "language": "python",
   "name": "python3"
  },
  "language_info": {
   "codemirror_mode": {
    "name": "ipython",
    "version": 3
   },
   "file_extension": ".py",
   "mimetype": "text/x-python",
   "name": "python",
   "nbconvert_exporter": "python",
   "pygments_lexer": "ipython3",
   "version": "3.7.2"
  }
 },
 "nbformat": 4,
 "nbformat_minor": 2
}
