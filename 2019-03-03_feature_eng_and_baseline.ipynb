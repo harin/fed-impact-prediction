{
 "cells": [
  {
   "cell_type": "code",
   "execution_count": 113,
   "metadata": {},
   "outputs": [
    {
     "name": "stdout",
     "output_type": "stream",
     "text": [
      "The autoreload extension is already loaded. To reload it, use:\n",
      "  %reload_ext autoreload\n"
     ]
    }
   ],
   "source": [
    "%load_ext autoreload\n",
    "%autoreload 2\n",
    "import pandas as pd\n",
    "import numpy as np\n",
    "import matplotlib\n",
    "from sklearn.feature_extraction.text import CountVectorizer, TfidfTransformer\n",
    "from util import DenseTransformer"
   ]
  },
  {
   "cell_type": "code",
   "execution_count": 9,
   "metadata": {},
   "outputs": [],
   "source": [
    "df = pd.read_csv('./data/dataset.csv', index_col=0, parse_dates=True)"
   ]
  },
  {
   "cell_type": "code",
   "execution_count": 13,
   "metadata": {},
   "outputs": [
    {
     "data": {
      "text/html": [
       "<div>\n",
       "<style scoped>\n",
       "    .dataframe tbody tr th:only-of-type {\n",
       "        vertical-align: middle;\n",
       "    }\n",
       "\n",
       "    .dataframe tbody tr th {\n",
       "        vertical-align: top;\n",
       "    }\n",
       "\n",
       "    .dataframe thead th {\n",
       "        text-align: right;\n",
       "    }\n",
       "</style>\n",
       "<table border=\"1\" class=\"dataframe\">\n",
       "  <thead>\n",
       "    <tr style=\"text-align: right;\">\n",
       "      <th></th>\n",
       "      <th>close</th>\n",
       "      <th>d</th>\n",
       "      <th>date</th>\n",
       "      <th>l</th>\n",
       "      <th>pct_change</th>\n",
       "      <th>pt</th>\n",
       "      <th>t</th>\n",
       "    </tr>\n",
       "  </thead>\n",
       "  <tbody>\n",
       "    <tr>\n",
       "      <th>2006-01-03</th>\n",
       "      <td>1268.8000</td>\n",
       "      <td>1/3/2006</td>\n",
       "      <td>2006-01-03 00:00:00</td>\n",
       "      <td>/newsevents/pressreleases/orders20060103a.htm</td>\n",
       "      <td>-0.003659</td>\n",
       "      <td>Orders on Banking Applications</td>\n",
       "      <td>Approval of proposal by Kreditanstalt f&amp;uuml;r...</td>\n",
       "    </tr>\n",
       "    <tr>\n",
       "      <th>2006-01-04</th>\n",
       "      <td>1273.4600</td>\n",
       "      <td>1/3/2006 2:00:00 PM</td>\n",
       "      <td>2006-01-03 14:00:00</td>\n",
       "      <td>/newsevents/pressreleases/monetary20060103a.htm</td>\n",
       "      <td>-0.000016</td>\n",
       "      <td>Monetary Policy</td>\n",
       "      <td>Minutes of Federal Open Market Committee, Dece...</td>\n",
       "    </tr>\n",
       "    <tr>\n",
       "      <th>2006-01-10</th>\n",
       "      <td>1289.6899</td>\n",
       "      <td>1/9/2006 11:30:00 AM</td>\n",
       "      <td>2006-01-09 11:30:00</td>\n",
       "      <td>/newsevents/pressreleases/other20060109a.htm</td>\n",
       "      <td>-0.003470</td>\n",
       "      <td>Other Announcements</td>\n",
       "      <td>Consumer Advisory Council appointments for 2006</td>\n",
       "    </tr>\n",
       "    <tr>\n",
       "      <th>2006-01-10</th>\n",
       "      <td>1289.6899</td>\n",
       "      <td>1/10/2006</td>\n",
       "      <td>2006-01-10 00:00:00</td>\n",
       "      <td>/newsevents/pressreleases/other20060110a.htm</td>\n",
       "      <td>-0.003470</td>\n",
       "      <td>Other Announcements</td>\n",
       "      <td>Reserve Bank income and expense data and trans...</td>\n",
       "    </tr>\n",
       "    <tr>\n",
       "      <th>2006-01-11</th>\n",
       "      <td>1294.1801</td>\n",
       "      <td>1/10/2006 2:00:00 PM</td>\n",
       "      <td>2006-01-10 14:00:00</td>\n",
       "      <td>/newsevents/pressreleases/monetary20060110a.htm</td>\n",
       "      <td>0.006314</td>\n",
       "      <td>Monetary Policy</td>\n",
       "      <td>Minutes of Board discount rate meetings, Decem...</td>\n",
       "    </tr>\n",
       "  </tbody>\n",
       "</table>\n",
       "</div>"
      ],
      "text/plain": [
       "                close                     d                 date  \\\n",
       "2006-01-03  1268.8000              1/3/2006  2006-01-03 00:00:00   \n",
       "2006-01-04  1273.4600   1/3/2006 2:00:00 PM  2006-01-03 14:00:00   \n",
       "2006-01-10  1289.6899  1/9/2006 11:30:00 AM  2006-01-09 11:30:00   \n",
       "2006-01-10  1289.6899             1/10/2006  2006-01-10 00:00:00   \n",
       "2006-01-11  1294.1801  1/10/2006 2:00:00 PM  2006-01-10 14:00:00   \n",
       "\n",
       "                                                          l  pct_change  \\\n",
       "2006-01-03    /newsevents/pressreleases/orders20060103a.htm   -0.003659   \n",
       "2006-01-04  /newsevents/pressreleases/monetary20060103a.htm   -0.000016   \n",
       "2006-01-10     /newsevents/pressreleases/other20060109a.htm   -0.003470   \n",
       "2006-01-10     /newsevents/pressreleases/other20060110a.htm   -0.003470   \n",
       "2006-01-11  /newsevents/pressreleases/monetary20060110a.htm    0.006314   \n",
       "\n",
       "                                        pt  \\\n",
       "2006-01-03  Orders on Banking Applications   \n",
       "2006-01-04                 Monetary Policy   \n",
       "2006-01-10             Other Announcements   \n",
       "2006-01-10             Other Announcements   \n",
       "2006-01-11                 Monetary Policy   \n",
       "\n",
       "                                                            t  \n",
       "2006-01-03  Approval of proposal by Kreditanstalt f&uuml;r...  \n",
       "2006-01-04  Minutes of Federal Open Market Committee, Dece...  \n",
       "2006-01-10    Consumer Advisory Council appointments for 2006  \n",
       "2006-01-10  Reserve Bank income and expense data and trans...  \n",
       "2006-01-11  Minutes of Board discount rate meetings, Decem...  "
      ]
     },
     "execution_count": 13,
     "metadata": {},
     "output_type": "execute_result"
    }
   ],
   "source": [
    "df.head()"
   ]
  },
  {
   "cell_type": "code",
   "execution_count": 14,
   "metadata": {},
   "outputs": [],
   "source": [
    "count_vect = CountVectorizer()\n",
    "X_train_counts = count_vect.fit_transform(df.t)"
   ]
  },
  {
   "cell_type": "code",
   "execution_count": 15,
   "metadata": {},
   "outputs": [
    {
     "data": {
      "text/plain": [
       "<3373x3166 sparse matrix of type '<class 'numpy.int64'>'\n",
       "\twith 40256 stored elements in Compressed Sparse Row format>"
      ]
     },
     "execution_count": 15,
     "metadata": {},
     "output_type": "execute_result"
    }
   ],
   "source": [
    "X_train_counts"
   ]
  },
  {
   "cell_type": "code",
   "execution_count": 33,
   "metadata": {},
   "outputs": [
    {
     "data": {
      "text/plain": [
       "(3373, 3166)"
      ]
     },
     "execution_count": 33,
     "metadata": {},
     "output_type": "execute_result"
    }
   ],
   "source": [
    "tf_transformer = TfidfTransformer().fit(X_train_counts)\n",
    "X_train_tfidf = tf_transformer.transform(X_train_counts).toarray()\n",
    "X_train_tfidf.shape"
   ]
  },
  {
   "cell_type": "code",
   "execution_count": 34,
   "metadata": {},
   "outputs": [],
   "source": [
    "y = (df['pct_change'] > 0).astype(int)"
   ]
  },
  {
   "cell_type": "code",
   "execution_count": 35,
   "metadata": {},
   "outputs": [],
   "source": [
    "from sklearn.naive_bayes import GaussianNB"
   ]
  },
  {
   "cell_type": "code",
   "execution_count": 36,
   "metadata": {},
   "outputs": [],
   "source": [
    "clf = GaussianNB().fit(X_train_tfidf, y)"
   ]
  },
  {
   "cell_type": "code",
   "execution_count": 38,
   "metadata": {},
   "outputs": [],
   "source": [
    "y_pred = clf.predict(X_train_tfidf)"
   ]
  },
  {
   "cell_type": "code",
   "execution_count": 52,
   "metadata": {},
   "outputs": [
    {
     "data": {
      "text/plain": [
       "0.7130151200711533"
      ]
     },
     "execution_count": 52,
     "metadata": {},
     "output_type": "execute_result"
    }
   ],
   "source": [
    "np.mean(y_pred == y)"
   ]
  },
  {
   "cell_type": "code",
   "execution_count": 53,
   "metadata": {},
   "outputs": [],
   "source": [
    "from sklearn.metrics import precision_score, recall_score, roc_auc_score, roc_curve"
   ]
  },
  {
   "cell_type": "code",
   "execution_count": 56,
   "metadata": {},
   "outputs": [
    {
     "data": {
      "text/plain": [
       "0.6148566814695196"
      ]
     },
     "execution_count": 56,
     "metadata": {},
     "output_type": "execute_result"
    }
   ],
   "source": [
    "precision_score(y, y_pred)"
   ]
  },
  {
   "cell_type": "code",
   "execution_count": 57,
   "metadata": {},
   "outputs": [
    {
     "data": {
      "text/plain": [
       "0.9908913467794405"
      ]
     },
     "execution_count": 57,
     "metadata": {},
     "output_type": "execute_result"
    }
   ],
   "source": [
    "recall_score(y, y_pred)"
   ]
  },
  {
   "cell_type": "code",
   "execution_count": 58,
   "metadata": {},
   "outputs": [],
   "source": [
    "# the classifier seems to be overly predict 1, capturing most 1, but almost half of it was misclassified"
   ]
  },
  {
   "cell_type": "code",
   "execution_count": 61,
   "metadata": {},
   "outputs": [],
   "source": [
    "from sklearn.pipeline import make_pipeline\n",
    "from sklearn.linear_model import SGDClassifier\n",
    "from sklearn.model_selection import train_test_split, GridSearchCV, cross_val_score"
   ]
  },
  {
   "cell_type": "code",
   "execution_count": 62,
   "metadata": {},
   "outputs": [],
   "source": [
    "text_clf = make_pipeline(\n",
    "    CountVectorizer(),\n",
    "    TfidfTransformer(),\n",
    "    SGDClassifier(loss='hinge', penalty='l2', alpha=1e-3, random_state=42, max_iter=5, tol=None)\n",
    ")"
   ]
  },
  {
   "cell_type": "code",
   "execution_count": 78,
   "metadata": {},
   "outputs": [],
   "source": [
    "X = df.t"
   ]
  },
  {
   "cell_type": "code",
   "execution_count": 79,
   "metadata": {},
   "outputs": [],
   "source": [
    "X_train, X_test, y_train, y_test = train_test_split(X,y,random_state=42)"
   ]
  },
  {
   "cell_type": "code",
   "execution_count": 80,
   "metadata": {},
   "outputs": [
    {
     "data": {
      "text/plain": [
       "array([0.50592885, 0.53754941, 0.53557312, 0.5513834 , 0.52277228])"
      ]
     },
     "execution_count": 80,
     "metadata": {},
     "output_type": "execute_result"
    }
   ],
   "source": [
    "cross_val_score(text_clf, X_train, y_train, cv=5)"
   ]
  },
  {
   "cell_type": "code",
   "execution_count": 91,
   "metadata": {},
   "outputs": [],
   "source": [
    "\n",
    "\n",
    "text_nb_clf = make_pipeline(\n",
    "    CountVectorizer(),\n",
    "    TfidfTransformer(),\n",
    "    DenseTransformer(),\n",
    "    GaussianNB()\n",
    ")"
   ]
  },
  {
   "cell_type": "code",
   "execution_count": 102,
   "metadata": {},
   "outputs": [
    {
     "data": {
      "text/plain": [
       "array([0.47035573, 0.46640316, 0.46837945, 0.48418972, 0.52079208])"
      ]
     },
     "execution_count": 102,
     "metadata": {},
     "output_type": "execute_result"
    }
   ],
   "source": [
    "cross_val_score(text_nb_clf, X_train, y_train, cv=5)"
   ]
  },
  {
   "cell_type": "code",
   "execution_count": 104,
   "metadata": {},
   "outputs": [],
   "source": [
    "from sklearn.svm import SVC\n",
    "\n",
    "text_svm = make_pipeline(\n",
    "    CountVectorizer(),\n",
    "    TfidfTransformer(),\n",
    "    SVC(random_state=42)\n",
    ")"
   ]
  },
  {
   "cell_type": "code",
   "execution_count": 105,
   "metadata": {},
   "outputs": [
    {
     "name": "stderr",
     "output_type": "stream",
     "text": [
      "/home/harinsa/miniconda3/lib/python3.7/site-packages/sklearn/svm/base.py:196: FutureWarning: The default value of gamma will change from 'auto' to 'scale' in version 0.22 to account better for unscaled features. Set gamma explicitly to 'auto' or 'scale' to avoid this warning.\n",
      "  \"avoid this warning.\", FutureWarning)\n"
     ]
    },
    {
     "data": {
      "text/plain": [
       "array([0.54743083, 0.54743083, 0.54743083, 0.54743083, 0.54851485])"
      ]
     },
     "execution_count": 105,
     "metadata": {},
     "output_type": "execute_result"
    }
   ],
   "source": [
    "cross_val_score(text_svm, X_train, y_train, cv=5)"
   ]
  },
  {
   "cell_type": "code",
   "execution_count": 111,
   "metadata": {},
   "outputs": [],
   "source": [
    "from sklearn.metrics import classification_report\n",
    "\n",
    "def evaluate_model(model, X=X_train, y=y_train):\n",
    "    text_svm = make_pipeline(\n",
    "        CountVectorizer(),\n",
    "        TfidfTransformer(),\n",
    "        DenseTransformer(),\n",
    "        model\n",
    "    )\n",
    "    grid = GridSearchCV(text_svm, {}, cv=5, n_jobs=-1)\n",
    "    grid.fit(X,y)\n",
    "    return grid"
   ]
  },
  {
   "cell_type": "code",
   "execution_count": 115,
   "metadata": {},
   "outputs": [
    {
     "name": "stderr",
     "output_type": "stream",
     "text": [
      "/home/harinsa/miniconda3/lib/python3.7/site-packages/sklearn/svm/base.py:196: FutureWarning: The default value of gamma will change from 'auto' to 'scale' in version 0.22 to account better for unscaled features. Set gamma explicitly to 'auto' or 'scale' to avoid this warning.\n",
      "  \"avoid this warning.\", FutureWarning)\n"
     ]
    }
   ],
   "source": [
    "grid = evaluate_model(SVC(random_state=42))"
   ]
  },
  {
   "cell_type": "code",
   "execution_count": 117,
   "metadata": {},
   "outputs": [
    {
     "name": "stderr",
     "output_type": "stream",
     "text": [
      "/home/harinsa/miniconda3/lib/python3.7/site-packages/sklearn/utils/deprecation.py:125: FutureWarning: You are accessing a training score ('split0_train_score'), which will not be available by default any more in 0.21. If you need training scores, please set return_train_score=True\n",
      "  warnings.warn(*warn_args, **warn_kwargs)\n",
      "/home/harinsa/miniconda3/lib/python3.7/site-packages/sklearn/utils/deprecation.py:125: FutureWarning: You are accessing a training score ('split1_train_score'), which will not be available by default any more in 0.21. If you need training scores, please set return_train_score=True\n",
      "  warnings.warn(*warn_args, **warn_kwargs)\n",
      "/home/harinsa/miniconda3/lib/python3.7/site-packages/sklearn/utils/deprecation.py:125: FutureWarning: You are accessing a training score ('split2_train_score'), which will not be available by default any more in 0.21. If you need training scores, please set return_train_score=True\n",
      "  warnings.warn(*warn_args, **warn_kwargs)\n",
      "/home/harinsa/miniconda3/lib/python3.7/site-packages/sklearn/utils/deprecation.py:125: FutureWarning: You are accessing a training score ('split3_train_score'), which will not be available by default any more in 0.21. If you need training scores, please set return_train_score=True\n",
      "  warnings.warn(*warn_args, **warn_kwargs)\n",
      "/home/harinsa/miniconda3/lib/python3.7/site-packages/sklearn/utils/deprecation.py:125: FutureWarning: You are accessing a training score ('split4_train_score'), which will not be available by default any more in 0.21. If you need training scores, please set return_train_score=True\n",
      "  warnings.warn(*warn_args, **warn_kwargs)\n",
      "/home/harinsa/miniconda3/lib/python3.7/site-packages/sklearn/utils/deprecation.py:125: FutureWarning: You are accessing a training score ('mean_train_score'), which will not be available by default any more in 0.21. If you need training scores, please set return_train_score=True\n",
      "  warnings.warn(*warn_args, **warn_kwargs)\n",
      "/home/harinsa/miniconda3/lib/python3.7/site-packages/sklearn/utils/deprecation.py:125: FutureWarning: You are accessing a training score ('std_train_score'), which will not be available by default any more in 0.21. If you need training scores, please set return_train_score=True\n",
      "  warnings.warn(*warn_args, **warn_kwargs)\n"
     ]
    },
    {
     "data": {
      "text/plain": [
       "{'mean_fit_time': array([16.94346161]),\n",
       " 'std_fit_time': array([1.56041995]),\n",
       " 'mean_score_time': array([4.33206258]),\n",
       " 'std_score_time': array([0.06780955]),\n",
       " 'params': [{}],\n",
       " 'split0_test_score': array([0.54743083]),\n",
       " 'split1_test_score': array([0.54743083]),\n",
       " 'split2_test_score': array([0.54743083]),\n",
       " 'split3_test_score': array([0.54743083]),\n",
       " 'split4_test_score': array([0.54851485]),\n",
       " 'mean_test_score': array([0.54764729]),\n",
       " 'std_test_score': array([0.00043335]),\n",
       " 'rank_test_score': array([1], dtype=int32),\n",
       " 'split0_train_score': array([0.54770143]),\n",
       " 'split1_train_score': array([0.54770143]),\n",
       " 'split2_train_score': array([0.54770143]),\n",
       " 'split3_train_score': array([0.54770143]),\n",
       " 'split4_train_score': array([0.54743083]),\n",
       " 'mean_train_score': array([0.54764731]),\n",
       " 'std_train_score': array([0.00010824])}"
      ]
     },
     "execution_count": 117,
     "metadata": {},
     "output_type": "execute_result"
    }
   ],
   "source": [
    "grid.cv_results_"
   ]
  },
  {
   "cell_type": "code",
   "execution_count": null,
   "metadata": {},
   "outputs": [],
   "source": []
  }
 ],
 "metadata": {
  "kernelspec": {
   "display_name": "Python [default]",
   "language": "python",
   "name": "python3"
  },
  "language_info": {
   "codemirror_mode": {
    "name": "ipython",
    "version": 3
   },
   "file_extension": ".py",
   "mimetype": "text/x-python",
   "name": "python",
   "nbconvert_exporter": "python",
   "pygments_lexer": "ipython3",
   "version": "3.7.2"
  }
 },
 "nbformat": 4,
 "nbformat_minor": 2
}
