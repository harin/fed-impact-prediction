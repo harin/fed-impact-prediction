{
 "cells": [
  {
   "cell_type": "code",
   "execution_count": 1,
   "metadata": {},
   "outputs": [],
   "source": [
    "%load_ext autoreload\n",
    "%autoreload 2"
   ]
  },
  {
   "cell_type": "code",
   "execution_count": 45,
   "metadata": {},
   "outputs": [],
   "source": [
    "import pandas as pd\n",
    "import numpy as np\n",
    "import matplotlib\n",
    "from sklearn.feature_extraction.text import CountVectorizer, TfidfTransformer, TfidfVectorizer\n",
    "from util import DenseTransformer\n",
    "from sklearn.metrics import classification_report\n",
    "from sklearn.pipeline import make_pipeline\n",
    "from sklearn.linear_model import SGDClassifier\n",
    "from sklearn.naive_bayes import GaussianNB\n",
    "from sklearn.metrics import precision_score, recall_score, roc_auc_score, roc_curve\n",
    "from sklearn.model_selection import train_test_split, GridSearchCV, cross_val_score, KFold, cross_validate\n",
    "from sklearn.svm import SVC\n",
    "from xgboost.sklearn import XGBClassifier\n",
    "from tqdm import tqdm\n"
   ]
  },
  {
   "cell_type": "code",
   "execution_count": 3,
   "metadata": {},
   "outputs": [],
   "source": [
    "df = pd.read_csv('./data/dataset_with_content.csv', index_col=0, parse_dates=True)"
   ]
  },
  {
   "cell_type": "code",
   "execution_count": 4,
   "metadata": {},
   "outputs": [
    {
     "data": {
      "text/html": [
       "<div>\n",
       "<style scoped>\n",
       "    .dataframe tbody tr th:only-of-type {\n",
       "        vertical-align: middle;\n",
       "    }\n",
       "\n",
       "    .dataframe tbody tr th {\n",
       "        vertical-align: top;\n",
       "    }\n",
       "\n",
       "    .dataframe thead th {\n",
       "        text-align: right;\n",
       "    }\n",
       "</style>\n",
       "<table border=\"1\" class=\"dataframe\">\n",
       "  <thead>\n",
       "    <tr style=\"text-align: right;\">\n",
       "      <th></th>\n",
       "      <th>l</th>\n",
       "      <th>close</th>\n",
       "      <th>d</th>\n",
       "      <th>date</th>\n",
       "      <th>pct_change</th>\n",
       "      <th>pt</th>\n",
       "      <th>t</th>\n",
       "      <th>content</th>\n",
       "    </tr>\n",
       "    <tr>\n",
       "      <th>next_day</th>\n",
       "      <th></th>\n",
       "      <th></th>\n",
       "      <th></th>\n",
       "      <th></th>\n",
       "      <th></th>\n",
       "      <th></th>\n",
       "      <th></th>\n",
       "      <th></th>\n",
       "    </tr>\n",
       "  </thead>\n",
       "  <tbody>\n",
       "    <tr>\n",
       "      <th>2006-01-11</th>\n",
       "      <td>/newsevents/pressreleases/bcreg20060110a.htm</td>\n",
       "      <td>1294.1801</td>\n",
       "      <td>1/10/2006 10:00:00 AM</td>\n",
       "      <td>2006-01-10 10:00:00</td>\n",
       "      <td>0.006314</td>\n",
       "      <td>Banking and Consumer Regulatory Policy</td>\n",
       "      <td>Federal Bank and Thrift Agencies Propose Guida...</td>\n",
       "      <td>\\nThe federal bank and thrift regulatory agenc...</td>\n",
       "    </tr>\n",
       "    <tr>\n",
       "      <th>2006-02-03</th>\n",
       "      <td>/newsevents/pressreleases/bcreg20060203a.htm</td>\n",
       "      <td>1264.0300</td>\n",
       "      <td>2/3/2006</td>\n",
       "      <td>2006-02-03 00:00:00</td>\n",
       "      <td>-0.000783</td>\n",
       "      <td>Banking and Consumer Regulatory Policy</td>\n",
       "      <td>Federal Financial Regulatory Agencies Issue In...</td>\n",
       "      <td>\\nThe federal financial regulatory agencies to...</td>\n",
       "    </tr>\n",
       "    <tr>\n",
       "      <th>2006-02-06</th>\n",
       "      <td>/newsevents/pressreleases/bcreg20060206a.htm</td>\n",
       "      <td>1265.0200</td>\n",
       "      <td>2/6/2006</td>\n",
       "      <td>2006-02-06 00:00:00</td>\n",
       "      <td>0.008161</td>\n",
       "      <td>Banking and Consumer Regulatory Policy</td>\n",
       "      <td>Approval of final rule on risk-based capital t...</td>\n",
       "      <td>\\nThe Federal Reserve Board on Monday announce...</td>\n",
       "    </tr>\n",
       "    <tr>\n",
       "      <th>2006-02-17</th>\n",
       "      <td>/newsevents/pressreleases/bcreg20060217a.htm</td>\n",
       "      <td>1287.2400</td>\n",
       "      <td>2/17/2006</td>\n",
       "      <td>2006-02-17 00:00:00</td>\n",
       "      <td>0.003281</td>\n",
       "      <td>Banking and Consumer Regulatory Policy</td>\n",
       "      <td>Federal Financial Regulatory Agencies Extend C...</td>\n",
       "      <td>\\nThe federal financial regulatory agencies to...</td>\n",
       "    </tr>\n",
       "    <tr>\n",
       "      <th>2006-02-24</th>\n",
       "      <td>/newsevents/pressreleases/bcreg20060224a.htm</td>\n",
       "      <td>1289.4301</td>\n",
       "      <td>2/24/2006</td>\n",
       "      <td>2006-02-24 00:00:00</td>\n",
       "      <td>-0.003624</td>\n",
       "      <td>Banking and Consumer Regulatory Policy</td>\n",
       "      <td>Federal Regulators Release Summary Findings of...</td>\n",
       "      <td>\\nWASHINGTON, D.C. - The federal bank and thri...</td>\n",
       "    </tr>\n",
       "  </tbody>\n",
       "</table>\n",
       "</div>"
      ],
      "text/plain": [
       "                                                       l      close  \\\n",
       "next_day                                                              \n",
       "2006-01-11  /newsevents/pressreleases/bcreg20060110a.htm  1294.1801   \n",
       "2006-02-03  /newsevents/pressreleases/bcreg20060203a.htm  1264.0300   \n",
       "2006-02-06  /newsevents/pressreleases/bcreg20060206a.htm  1265.0200   \n",
       "2006-02-17  /newsevents/pressreleases/bcreg20060217a.htm  1287.2400   \n",
       "2006-02-24  /newsevents/pressreleases/bcreg20060224a.htm  1289.4301   \n",
       "\n",
       "                                d                 date  pct_change  \\\n",
       "next_day                                                             \n",
       "2006-01-11  1/10/2006 10:00:00 AM  2006-01-10 10:00:00    0.006314   \n",
       "2006-02-03               2/3/2006  2006-02-03 00:00:00   -0.000783   \n",
       "2006-02-06               2/6/2006  2006-02-06 00:00:00    0.008161   \n",
       "2006-02-17              2/17/2006  2006-02-17 00:00:00    0.003281   \n",
       "2006-02-24              2/24/2006  2006-02-24 00:00:00   -0.003624   \n",
       "\n",
       "                                                pt  \\\n",
       "next_day                                             \n",
       "2006-01-11  Banking and Consumer Regulatory Policy   \n",
       "2006-02-03  Banking and Consumer Regulatory Policy   \n",
       "2006-02-06  Banking and Consumer Regulatory Policy   \n",
       "2006-02-17  Banking and Consumer Regulatory Policy   \n",
       "2006-02-24  Banking and Consumer Regulatory Policy   \n",
       "\n",
       "                                                            t  \\\n",
       "next_day                                                        \n",
       "2006-01-11  Federal Bank and Thrift Agencies Propose Guida...   \n",
       "2006-02-03  Federal Financial Regulatory Agencies Issue In...   \n",
       "2006-02-06  Approval of final rule on risk-based capital t...   \n",
       "2006-02-17  Federal Financial Regulatory Agencies Extend C...   \n",
       "2006-02-24  Federal Regulators Release Summary Findings of...   \n",
       "\n",
       "                                                      content  \n",
       "next_day                                                       \n",
       "2006-01-11  \\nThe federal bank and thrift regulatory agenc...  \n",
       "2006-02-03  \\nThe federal financial regulatory agencies to...  \n",
       "2006-02-06  \\nThe Federal Reserve Board on Monday announce...  \n",
       "2006-02-17  \\nThe federal financial regulatory agencies to...  \n",
       "2006-02-24  \\nWASHINGTON, D.C. - The federal bank and thri...  "
      ]
     },
     "execution_count": 4,
     "metadata": {},
     "output_type": "execute_result"
    }
   ],
   "source": [
    "df.head()"
   ]
  },
  {
   "cell_type": "code",
   "execution_count": 5,
   "metadata": {},
   "outputs": [],
   "source": [
    "df.content = df.content.fillna('')"
   ]
  },
  {
   "cell_type": "code",
   "execution_count": 8,
   "metadata": {},
   "outputs": [],
   "source": [
    "X = df.t +'\\n'+ df.content\n",
    "y = df['pct_change'] > 0"
   ]
  },
  {
   "cell_type": "code",
   "execution_count": 9,
   "metadata": {},
   "outputs": [],
   "source": [
    "X_train, X_test, y_train, y_test = train_test_split(X,y,random_state=42)"
   ]
  },
  {
   "cell_type": "code",
   "execution_count": 11,
   "metadata": {},
   "outputs": [],
   "source": [
    "def evaluate_model(model, X=X_train, y=y_train):\n",
    "    text_svm = make_pipeline(\n",
    "        CountVectorizer(),\n",
    "        TfidfTransformer(),\n",
    "        DenseTransformer(),\n",
    "        model\n",
    "    )\n",
    "#     kf = KFold(n_splits=5)\n",
    "#     for train_idx, test_idx in kf.split(X):\n",
    "    \n",
    "    scores = cross_val_score(text_svm, X, y, cv=5)\n",
    "    return scores"
   ]
  },
  {
   "cell_type": "code",
   "execution_count": 32,
   "metadata": {},
   "outputs": [
    {
     "name": "stdout",
     "output_type": "stream",
     "text": [
      "[0.48221344 0.52173913 0.50988142 0.53359684 0.47920792]\n"
     ]
    },
    {
     "data": {
      "text/plain": [
       "array([0.48221344, 0.52173913, 0.50988142, 0.53359684, 0.47920792])"
      ]
     },
     "execution_count": 32,
     "metadata": {},
     "output_type": "execute_result"
    }
   ],
   "source": [
    "evaluate_model(GaussianNB())"
   ]
  },
  {
   "cell_type": "code",
   "execution_count": 33,
   "metadata": {},
   "outputs": [
    {
     "name": "stdout",
     "output_type": "stream",
     "text": [
      "[0.55335968 0.54347826 0.52371542 0.52766798 0.51089109]\n"
     ]
    },
    {
     "data": {
      "text/plain": [
       "array([0.55335968, 0.54347826, 0.52371542, 0.52766798, 0.51089109])"
      ]
     },
     "execution_count": 33,
     "metadata": {},
     "output_type": "execute_result"
    }
   ],
   "source": [
    "evaluate_model(SGDClassifier(loss='hinge', penalty='l2', alpha=1e-3, random_state=42, max_iter=5, tol=None))"
   ]
  },
  {
   "cell_type": "code",
   "execution_count": 36,
   "metadata": {},
   "outputs": [
    {
     "name": "stderr",
     "output_type": "stream",
     "text": [
      "/home/harinsa/miniconda3/lib/python3.7/site-packages/sklearn/svm/base.py:196: FutureWarning: The default value of gamma will change from 'auto' to 'scale' in version 0.22 to account better for unscaled features. Set gamma explicitly to 'auto' or 'scale' to avoid this warning.\n",
      "  \"avoid this warning.\", FutureWarning)\n",
      "/home/harinsa/miniconda3/lib/python3.7/site-packages/sklearn/svm/base.py:196: FutureWarning: The default value of gamma will change from 'auto' to 'scale' in version 0.22 to account better for unscaled features. Set gamma explicitly to 'auto' or 'scale' to avoid this warning.\n",
      "  \"avoid this warning.\", FutureWarning)\n",
      "/home/harinsa/miniconda3/lib/python3.7/site-packages/sklearn/svm/base.py:196: FutureWarning: The default value of gamma will change from 'auto' to 'scale' in version 0.22 to account better for unscaled features. Set gamma explicitly to 'auto' or 'scale' to avoid this warning.\n",
      "  \"avoid this warning.\", FutureWarning)\n",
      "/home/harinsa/miniconda3/lib/python3.7/site-packages/sklearn/svm/base.py:196: FutureWarning: The default value of gamma will change from 'auto' to 'scale' in version 0.22 to account better for unscaled features. Set gamma explicitly to 'auto' or 'scale' to avoid this warning.\n",
      "  \"avoid this warning.\", FutureWarning)\n",
      "/home/harinsa/miniconda3/lib/python3.7/site-packages/sklearn/svm/base.py:196: FutureWarning: The default value of gamma will change from 'auto' to 'scale' in version 0.22 to account better for unscaled features. Set gamma explicitly to 'auto' or 'scale' to avoid this warning.\n",
      "  \"avoid this warning.\", FutureWarning)\n"
     ]
    },
    {
     "name": "stdout",
     "output_type": "stream",
     "text": [
      "[0.54150198 0.54150198 0.54150198 0.54150198 0.54257426]\n"
     ]
    },
    {
     "data": {
      "text/plain": [
       "array([0.54150198, 0.54150198, 0.54150198, 0.54150198, 0.54257426])"
      ]
     },
     "execution_count": 36,
     "metadata": {},
     "output_type": "execute_result"
    }
   ],
   "source": [
    "evaluate_model(SVC(random_state=42))"
   ]
  },
  {
   "cell_type": "code",
   "execution_count": 12,
   "metadata": {},
   "outputs": [
    {
     "data": {
      "text/plain": [
       "array([0.51976285, 0.54150198, 0.5513834 , 0.48418972, 0.54455446])"
      ]
     },
     "execution_count": 12,
     "metadata": {},
     "output_type": "execute_result"
    }
   ],
   "source": [
    "evaluate_model(XGBClassifier())"
   ]
  },
  {
   "cell_type": "code",
   "execution_count": 31,
   "metadata": {},
   "outputs": [],
   "source": [
    "def evaluate_model(model, X=X_train, y=y_train):\n",
    "    text_model = make_pipeline(\n",
    "        CountVectorizer(),\n",
    "        TfidfTransformer(),\n",
    "        DenseTransformer(),\n",
    "        model\n",
    "    )\n",
    "    result = cross_validate(text_model, X,y, cv=5, n_jobs=-1, return_estimator=True)\n",
    "    return result"
   ]
  },
  {
   "cell_type": "code",
   "execution_count": 39,
   "metadata": {},
   "outputs": [
    {
     "name": "stderr",
     "output_type": "stream",
     "text": [
      "/home/harinsa/miniconda3/lib/python3.7/site-packages/sklearn/utils/deprecation.py:125: FutureWarning: You are accessing a training score ('train_score'), which will not be available by default any more in 0.21. If you need training scores, please set return_train_score=True\n",
      "  warnings.warn(*warn_args, **warn_kwargs)\n"
     ]
    },
    {
     "data": {
      "text/plain": [
       "{'fit_time': array([354.70518684, 352.3257575 , 355.98370767, 347.36889791,\n",
       "        351.95765376]),\n",
       " 'score_time': array([0.24381185, 0.3111732 , 0.2257154 , 0.33550477, 0.31494427]),\n",
       " 'estimator': (Pipeline(memory=None,\n",
       "       steps=[('countvectorizer', CountVectorizer(analyzer='word', binary=False, decode_error='strict',\n",
       "          dtype=<class 'numpy.int64'>, encoding='utf-8', input='content',\n",
       "          lowercase=True, max_df=1.0, max_features=None, min_df=1,\n",
       "          ngram_range=(1, 1), preprocessor=None, stop_words=None,\n",
       "    ...ate=42, reg_alpha=0, reg_lambda=1, scale_pos_weight=1,\n",
       "         seed=None, silent=True, subsample=1))]), Pipeline(memory=None,\n",
       "       steps=[('countvectorizer', CountVectorizer(analyzer='word', binary=False, decode_error='strict',\n",
       "          dtype=<class 'numpy.int64'>, encoding='utf-8', input='content',\n",
       "          lowercase=True, max_df=1.0, max_features=None, min_df=1,\n",
       "          ngram_range=(1, 1), preprocessor=None, stop_words=None,\n",
       "    ...ate=42, reg_alpha=0, reg_lambda=1, scale_pos_weight=1,\n",
       "         seed=None, silent=True, subsample=1))]), Pipeline(memory=None,\n",
       "       steps=[('countvectorizer', CountVectorizer(analyzer='word', binary=False, decode_error='strict',\n",
       "          dtype=<class 'numpy.int64'>, encoding='utf-8', input='content',\n",
       "          lowercase=True, max_df=1.0, max_features=None, min_df=1,\n",
       "          ngram_range=(1, 1), preprocessor=None, stop_words=None,\n",
       "    ...ate=42, reg_alpha=0, reg_lambda=1, scale_pos_weight=1,\n",
       "         seed=None, silent=True, subsample=1))]), Pipeline(memory=None,\n",
       "       steps=[('countvectorizer', CountVectorizer(analyzer='word', binary=False, decode_error='strict',\n",
       "          dtype=<class 'numpy.int64'>, encoding='utf-8', input='content',\n",
       "          lowercase=True, max_df=1.0, max_features=None, min_df=1,\n",
       "          ngram_range=(1, 1), preprocessor=None, stop_words=None,\n",
       "    ...ate=42, reg_alpha=0, reg_lambda=1, scale_pos_weight=1,\n",
       "         seed=None, silent=True, subsample=1))]), Pipeline(memory=None,\n",
       "       steps=[('countvectorizer', CountVectorizer(analyzer='word', binary=False, decode_error='strict',\n",
       "          dtype=<class 'numpy.int64'>, encoding='utf-8', input='content',\n",
       "          lowercase=True, max_df=1.0, max_features=None, min_df=1,\n",
       "          ngram_range=(1, 1), preprocessor=None, stop_words=None,\n",
       "    ...ate=42, reg_alpha=0, reg_lambda=1, scale_pos_weight=1,\n",
       "         seed=None, silent=True, subsample=1))])),\n",
       " 'test_score': array([0.52766798, 0.54545455, 0.5256917 , 0.49209486, 0.54059406]),\n",
       " 'train_score': array([0.93277311, 0.92684132, 0.93079585, 0.93821058, 0.93774704])}"
      ]
     },
     "execution_count": 39,
     "metadata": {},
     "output_type": "execute_result"
    }
   ],
   "source": [
    "result = evaluate_model(XGBClassifier(n_estimators=1000, max_depth=2, n_jobs=-1, random_state=42)); result"
   ]
  },
  {
   "cell_type": "code",
   "execution_count": null,
   "metadata": {},
   "outputs": [],
   "source": [
    "def evaluate_model(model, X=X_train, y=y_train):\n",
    "    text_model = make_pipeline(\n",
    "#         CountVectorizer(ngram_range=(1,2)),\n",
    "        TfidfVectorizer(use_idf=True, ngram_range=(1,2), stop_words='english'),\n",
    "        DenseTransformer(),\n",
    "        model\n",
    "    )\n",
    "    result = cross_validate(text_model, X,y, cv=5, n_jobs=-1, return_estimator=True)\n",
    "    return result\n",
    "\n",
    "tree = XGBClassifier(n_estimators=100, max_depth=3, n_jobs=-1, random_state=42)\n",
    "result = evaluate_model(); result"
   ]
  },
  {
   "cell_type": "code",
   "execution_count": null,
   "metadata": {},
   "outputs": [],
   "source": [
    "evaluate_model(SVC(random_state=42))"
   ]
  },
  {
   "cell_type": "code",
   "execution_count": null,
   "metadata": {},
   "outputs": [],
   "source": []
  }
 ],
 "metadata": {
  "kernelspec": {
   "display_name": "Python [default]",
   "language": "python",
   "name": "python3"
  },
  "language_info": {
   "codemirror_mode": {
    "name": "ipython",
    "version": 3
   },
   "file_extension": ".py",
   "mimetype": "text/x-python",
   "name": "python",
   "nbconvert_exporter": "python",
   "pygments_lexer": "ipython3",
   "version": "3.7.2"
  }
 },
 "nbformat": 4,
 "nbformat_minor": 2
}
